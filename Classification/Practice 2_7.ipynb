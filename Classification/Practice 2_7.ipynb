{
 "cells": [
  {
   "cell_type": "markdown",
   "id": "ec33de1c",
   "metadata": {},
   "source": [
    "# Laboratory practice 2.7: ANN"
   ]
  },
  {
   "cell_type": "markdown",
   "id": "4c5a9401",
   "metadata": {},
   "source": [
    "#### Theoretical questions\n",
    "1. Defines the architecture of a neural network\n",
    "2. What is the activation function?\n",
    "3. Can you name two activation functions?\n",
    "4. For classification problems, which activation function is typically used for the output layer?\n",
    "5. Within the Gradient descent, what does alpha mean?"
   ]
  },
  {
   "cell_type": "markdown",
   "id": "611a7407",
   "metadata": {},
   "source": [
    "#### Practice: \n",
    "\n",
    "In this practice we will use https://scikit-learn.org/stable/modules/generated/sklearn.neural_network.MLPClassifier.html.\n",
    "\n",
    "#### Before you start: have a look at the library and its hyperparameters \n",
    "\n",
    "#### Modeling\n",
    "\n",
    "Given the following libraries:"
   ]
  },
  {
   "cell_type": "code",
   "execution_count": 154,
   "id": "f6887c2b",
   "metadata": {},
   "outputs": [],
   "source": [
    "import numpy as np\n",
    "import pandas as pd\n",
    "\n",
    "import matplotlib.pyplot as plt\n",
    "import seaborn as sns\n",
    "%matplotlib inline\n",
    "plt.style.use('fivethirtyeight')\n",
    "\n",
    "from sklearn.datasets import make_blobs\n",
    "from sklearn.neural_network import MLPClassifier\n",
    "from sklearn.model_selection import RandomizedSearchCV\n",
    "from sklearn.model_selection import GridSearchCV\n",
    "from sklearn.model_selection import KFold\n",
    "import multiprocessing\n",
    "\n",
    "import warnings\n",
    "warnings.filterwarnings('ignore')"
   ]
  },
  {
   "cell_type": "markdown",
   "id": "fe7bd227",
   "metadata": {},
   "source": [
    "The data set we will use is the Sonar data set. This is a dataset that describes the chirp of the sonar returning bouncing off different surfaces. The 60 input variables are the strength of the returns at different angles. \n",
    "\n",
    "All variables are continuous and generally in the range 0 to 1. **The target variable is a string M for mine and R for rock, which will need to be converted to integer.**"
   ]
  },
  {
   "cell_type": "code",
   "execution_count": 153,
   "id": "c34107b1",
   "metadata": {},
   "outputs": [],
   "source": [
    "df = pd.read_csv(\"data/sonar.csv\", header=None)"
   ]
  },
  {
   "cell_type": "markdown",
   "id": "2f10a958",
   "metadata": {},
   "source": [
    "The classifier to be used is `MLPClassifier()`\n",
    "\n",
    "Train a model whose preprocessing has a data scaling and answer the following questions:\n",
    "\n",
    "- How does the variation of the following hyperparameter affect? what would happen if we put a lot of hidden layers with a lot of neurons?\n",
    "\n",
    "`hidden_layer_sizes`: number and size of hidden layers. For example, (100) for a single hidden layer with 100 neurons, and (16, 16) for two hidden layers of 16 neurons each. The default value is (100,).\n",
    "\n",
    "Hint: example param_grid = `{hidden_layer_sizes': [(10), (10, 10), (20, 20)]}`\n",
    "\n",
    "- How does it affect changing the hidden layers activation function?\n",
    "\n",
    "- Which activation function for the output layer should be the correct one? \n",
    "\n",
    "- If there is overfitting, which parameter should we modify and why?\n",
    "\n",
    "- What happens if we set different `learning_rate_init` with very distant values?\n",
    "\n",
    "- What parameters have you searched for and why?\n",
    "\n",
    "- Do you think it makes sense to study the parameters in a univariate way?\n",
    "\n",
    "- How good is your model? Could you justify it with some metrics?"
   ]
  },
  {
   "cell_type": "code",
   "execution_count": null,
   "id": "2710c7db",
   "metadata": {},
   "outputs": [],
   "source": []
  }
 ],
 "metadata": {
  "kernelspec": {
   "display_name": "Python 3 (ipykernel)",
   "language": "python",
   "name": "python3"
  },
  "language_info": {
   "codemirror_mode": {
    "name": "ipython",
    "version": 3
   },
   "file_extension": ".py",
   "mimetype": "text/x-python",
   "name": "python",
   "nbconvert_exporter": "python",
   "pygments_lexer": "ipython3",
   "version": "3.9.13"
  }
 },
 "nbformat": 4,
 "nbformat_minor": 5
}
