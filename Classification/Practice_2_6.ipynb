{
 "cells": [
  {
   "cell_type": "markdown",
   "id": "e169136c",
   "metadata": {},
   "source": [
    "# Laboratory practice 2.6: SVM\n",
    "\n",
    "#### Theoretical questions\n",
    "\n",
    "1. How is a hyperplane defined? Can you define it mathematically? In a two-dimensional space, what is the associated hyperplane? and in a three-dimensional space?\n",
    "\n",
    "2. What is the Maximal Margin Hyperplane and in which cases is it used?\n",
    "\n",
    "3. What problem can we have if the maximal margin hyperplane fits perfectly to the training observations to separate them all correctly?\n",
    "\n",
    "4. What is the difference between Support Vector Classifier and Maximal Margin Hyperplane?\n",
    "\n",
    "5. The parameter $𝐶$ controls the balance between bias and variance in SVC.\n",
    "    - What if it is too small?\n",
    "    - What if it is too large?\n",
    "    \n",
    "6. What strategy do SVMs rely on to improve upon previous classifiers (MMC and SVC)?\n",
    "\n",
    "7. If we use a linear kernel, which of the above classifiers is it equivalent to?\n",
    "\n",
    "8. If we use a polynomial kernel, what parameter of $d$ must be used to make it equivalent to a linear kernel?\n",
    "\n",
    "#### Practice\n",
    "\n",
    "1. Given the following libraries:"
   ]
  },
  {
   "cell_type": "code",
   "execution_count": 42,
   "id": "4abd8e11",
   "metadata": {},
   "outputs": [],
   "source": [
    "import pandas as pd\n",
    "import numpy as np\n",
    "\n",
    "import matplotlib.pyplot as plt\n",
    "from matplotlib import style\n",
    "from mlxtend.plotting import plot_decision_regions\n",
    "\n",
    "from sklearn.metrics import accuracy_score\n",
    "from sklearn.metrics import confusion_matrix\n",
    "from sklearn.metrics import plot_confusion_matrix\n",
    "from sklearn.metrics import classification_report\n",
    "from sklearn.compose import ColumnTransformer\n",
    "from sklearn.preprocessing import OneHotEncoder\n",
    "from sklearn.model_selection import cross_val_score\n",
    "from sklearn.model_selection import train_test_split\n",
    "from sklearn.model_selection import RepeatedKFold\n",
    "from sklearn.model_selection import GridSearchCV\n",
    "from sklearn.model_selection import ParameterGrid\n",
    "from sklearn.inspection import permutation_importance\n",
    "from sklearn.pipeline import Pipeline\n",
    "from sklearn.impute import SimpleImputer\n",
    "from sklearn.svm import SVC\n",
    "from sklearn.model_selection import train_test_split\n",
    "from sklearn.model_selection import GridSearchCV\n",
    "from sklearn.metrics import accuracy_score\n",
    "\n",
    "import warnings\n",
    "warnings.filterwarnings('ignore')\n",
    "\n",
    "plt.rcParams['image.cmap'] = \"bwr\"\n",
    "plt.rcParams['savefig.bbox'] = \"tight\"\n",
    "style.use('ggplot') or plt.style.use('ggplot')"
   ]
  },
  {
   "cell_type": "markdown",
   "id": "d5e21863",
   "metadata": {},
   "source": [
    "Loads the data located in `data/svm_data.csv`:"
   ]
  },
  {
   "cell_type": "markdown",
   "id": "facc82aa",
   "metadata": {},
   "source": [
    "2. X1-X2 plot with different target color"
   ]
  },
  {
   "cell_type": "markdown",
   "id": "1edba503",
   "metadata": {},
   "source": [
    "Is it linearly separable? "
   ]
  },
  {
   "cell_type": "markdown",
   "id": "6e99576f",
   "metadata": {},
   "source": [
    "3. Split data in train-test:"
   ]
  },
  {
   "cell_type": "markdown",
   "id": "0a3aab77",
   "metadata": {},
   "source": [
    "4. Preprocess the data as you consider\n",
    "\n",
    "5. Train the following models using `SVC` classifier:\n",
    "\n",
    "    5.1 SVM with lineal kernel\n",
    "    \n",
    "    5.2 SVM with radial kernel with gamma = scale\n",
    "\n",
    "In each model you must search for the hyperparameters.\n",
    "\n",
    "Questions:\n",
    "* Which is the best model and why?\n",
    "* Explain how the performance of the model varies according to the C parameters.\n",
    "* With the help of this code, plot the boundaries of the generated models and explain what you observe with the different models.\n",
    "\n",
    "`fig, ax = plt.subplots(figsize=(6,4))\n",
    "plot_decision_regions(\n",
    "    X = X_train.to_numpy(),\n",
    "    y = y_train.flatten(),\n",
    "    clf = search.best_estimator_._final_estimator,\n",
    "    ax = ax\n",
    ")\n",
    "ax.set_title(\"Your title\");`\n",
    "* if we codify:\n",
    "    - clf.decision_function(X_train)\n",
    "    - clf.predict(X_train)\n",
    "\n",
    "What conclusions can we draw from this? Could you explain what is decision function and how it is working in this case?"
   ]
  },
  {
   "cell_type": "code",
   "execution_count": null,
   "id": "27fc80de",
   "metadata": {},
   "outputs": [],
   "source": []
  }
 ],
 "metadata": {
  "kernelspec": {
   "display_name": "Python 3 (ipykernel)",
   "language": "python",
   "name": "python3"
  },
  "language_info": {
   "codemirror_mode": {
    "name": "ipython",
    "version": 3
   },
   "file_extension": ".py",
   "mimetype": "text/x-python",
   "name": "python",
   "nbconvert_exporter": "python",
   "pygments_lexer": "ipython3",
   "version": "3.9.13"
  }
 },
 "nbformat": 4,
 "nbformat_minor": 5
}
