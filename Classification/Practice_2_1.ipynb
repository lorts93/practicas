{
 "cells": [
  {
   "cell_type": "markdown",
   "metadata": {},
   "source": [
    "# Laboratory practice 2.1: EDA\n",
    "\n",
    "Reference notebook: `Examples/EDA_example.ipynb`\n",
    "\n",
    "For this practice, you will need the following datasets:\n",
    "\n",
    "- **pima-indians-diabetes.csv**: This dataset is originally from the National Institute of Diabetes and Digestive and Kidney Diseases. The objective of the dataset is to diagnostically predict whether or not a patient has diabetes, based on certain diagnostic measurements included in the dataset.\n",
    "\n",
    "Columns:\n",
    "* pregnancies: Number of times pregnant\n",
    "* glucose: Plasma glucose concentration a 2 hours in an oral glucose tolerance test\n",
    "* blood_pressure: Diastolic blood pressure (mm Hg)\n",
    "* skin_thickness: Triceps skin fold thickness (mm)\n",
    "* insulin: 2-Hour serum insulin (mu U/ml)\n",
    "* BMI: body mass index\n",
    "* diabetes_pedigree_function: Diabetes pedigree function\n",
    "* age: Age (years)\n",
    "* Y: target\n",
    "\n",
    "The main package for machine learning in Python is **scikit-learn**.\n",
    "\n",
    "Further reading:\n",
    "- [scikit-learn](https://scikit-learn.org) (Machine Learning libraries)\n",
    "\n",
    "In addition, we will be using the following libraries:\n",
    "- Data management\n",
    "    - [numpy](https://numpy.org/) (linear algebra)\n",
    "    - [pandas](https://pandas.pydata.org/) (data processing, CSV file)\n",
    "\n",
    "- Plotting\n",
    "    - [seaborn](https://seaborn.pydata.org/)\n",
    "    - [matplotlib](https://matplotlib.org/)\n",
    "\n"
   ]
  },
  {
   "cell_type": "code",
   "execution_count": 37,
   "metadata": {},
   "outputs": [],
   "source": [
    "# Import necessary modules\n",
    "import numpy as np\n",
    "import pandas as pd\n",
    "\n",
    "from sklearn.model_selection import train_test_split\n",
    "\n",
    "import matplotlib.pyplot as plt\n",
    "import seaborn as sns\n",
    "sns.set()\n",
    "\n",
    "# Interactive plotting\n",
    "%matplotlib inline\n",
    "%config InlineBackend.figure_format = 'svg' # ‘png’, ‘retina’, ‘jpeg’, ‘svg’, ‘pdf’"
   ]
  },
  {
   "cell_type": "markdown",
   "metadata": {},
   "source": [
    "**Throughout the resolution of the practice, write down all your conclusions.**\n",
    "\n",
    "### 1. Our data\n",
    "\n",
    "#### Load data"
   ]
  },
  {
   "cell_type": "code",
   "execution_count": null,
   "metadata": {},
   "outputs": [],
   "source": []
  },
  {
   "cell_type": "markdown",
   "metadata": {},
   "source": [
    "#### Explore file"
   ]
  },
  {
   "cell_type": "code",
   "execution_count": null,
   "metadata": {},
   "outputs": [],
   "source": []
  },
  {
   "cell_type": "markdown",
   "metadata": {},
   "source": [
    "### 2. Preprocessing and data cleansing\n",
    "\n",
    "\n",
    "#### Deal with missing values (NA)\n",
    "\n"
   ]
  },
  {
   "cell_type": "code",
   "execution_count": null,
   "metadata": {
    "tags": []
   },
   "outputs": [],
   "source": []
  },
  {
   "cell_type": "markdown",
   "metadata": {},
   "source": [
    "#### Plot the data and look for outliers\n",
    "\n"
   ]
  },
  {
   "cell_type": "code",
   "execution_count": null,
   "metadata": {},
   "outputs": [],
   "source": []
  },
  {
   "cell_type": "markdown",
   "metadata": {},
   "source": [
    "#### Encode categorical variables\n",
    "\n",
    "Only if it is necessary"
   ]
  },
  {
   "cell_type": "code",
   "execution_count": null,
   "metadata": {},
   "outputs": [],
   "source": []
  },
  {
   "cell_type": "markdown",
   "metadata": {},
   "source": [
    "#### Analyse continuous variables\n",
    "\n",
    "Note: for scatterplot chose two variables"
   ]
  },
  {
   "cell_type": "code",
   "execution_count": null,
   "metadata": {},
   "outputs": [],
   "source": []
  },
  {
   "cell_type": "markdown",
   "metadata": {},
   "source": [
    "#### Deal with class imbalances\n",
    "\n"
   ]
  },
  {
   "cell_type": "code",
   "execution_count": null,
   "metadata": {},
   "outputs": [],
   "source": []
  },
  {
   "cell_type": "markdown",
   "metadata": {},
   "source": [
    "### 3. Save preprocessed data"
   ]
  },
  {
   "cell_type": "code",
   "execution_count": null,
   "metadata": {},
   "outputs": [],
   "source": []
  }
 ],
 "metadata": {
  "kernelspec": {
   "display_name": "Python 3 (ipykernel)",
   "language": "python",
   "name": "python3"
  },
  "language_info": {
   "codemirror_mode": {
    "name": "ipython",
    "version": 3
   },
   "file_extension": ".py",
   "mimetype": "text/x-python",
   "name": "python",
   "nbconvert_exporter": "python",
   "pygments_lexer": "ipython3",
   "version": "3.9.13"
  },
  "vscode": {
   "interpreter": {
    "hash": "6b1f7724dffa7b768bfb8b45b613882c17d22997f2027b85c628e9490a14a79a"
   }
  }
 },
 "nbformat": 4,
 "nbformat_minor": 2
}
