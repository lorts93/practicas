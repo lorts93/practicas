{
 "cells": [
  {
   "cell_type": "markdown",
   "metadata": {},
   "source": [
    "# Laboratory practice 2.3: Logistic Regression, LDA and GridSearchCV\n",
    "\n",
    "\n",
    "For this practice, you will need the following datasets:\n",
    "\n",
    "- **winequality-red.csv**: This datasets is related to red variants of the Portuguese \"Vinho Verde\" wine. \n",
    "\n",
    "Columns:\n",
    "* fixed acidity: most acids involved with wine or fixed or nonvolatile (do not evaporate readily).\n",
    "* volatile acidity: the amount of acetic acid in wine, which at too high of levels can lead to an unpleasant, vinegar taste.\n",
    "* citric acid: found in small quantities, citric acid can add 'freshness' and flavor to wines.\n",
    "* residual sugar: the amount of sugar remaining after fermentation stops.\n",
    "* chlorides: the amount of salt in the wine.\n",
    "* free sulfur dioxide: the free form of SO2 exists in equilibrium between molecular SO2 (as a dissolved gas) and bisulfite ion.\n",
    "* total sulfur dioxide: amount of free and bound forms of S02.\n",
    "* density: the density of water is close to that of water depending on the percent alcohol and sugar content\n",
    "* ph: describes how acidic or basic a wine is on a scale.\n",
    "* sulphates: a wine additive which can contribute to sulfur dioxide gas (S02) levels.\n",
    "* quality: 0-6.5 BAD (0); 6.5-10 GOOD(1).\n",
    "\n",
    "The main package for machine learning in Python is **scikit-learn**.\n",
    "\n",
    "Further reading:\n",
    "- [scikit-learn](https://scikit-learn.org) (Machine Learning libraries)\n",
    "\n",
    "In addition, we will be using the following libraries:\n",
    "- Data management\n",
    "    - [numpy](https://numpy.org/) (linear algebra)\n",
    "    - [pandas](https://pandas.pydata.org/) (data processing, CSV file)\n",
    "\n",
    "- Plotting\n",
    "    - [seaborn](https://seaborn.pydata.org/)\n",
    "    - [matplotlib](https://matplotlib.org/)"
   ]
  },
  {
   "cell_type": "code",
   "execution_count": 1,
   "metadata": {},
   "outputs": [],
   "source": [
    "import numpy as np\n",
    "import pandas as pd\n",
    "\n",
    "from sklearn.model_selection import train_test_split\n",
    "from sklearn.preprocessing import StandardScaler,OneHotEncoder\n",
    "from sklearn.metrics import (accuracy_score, confusion_matrix, \n",
    "                             roc_auc_score, roc_curve, confusion_matrix, \n",
    "                             ConfusionMatrixDisplay, classification_report,RocCurveDisplay\n",
    "                            )\n",
    "from sklearn.datasets import make_classification\n",
    "from sklearn.discriminant_analysis import LinearDiscriminantAnalysis\n",
    "from sklearn.compose import ColumnTransformer\n",
    "from sklearn.pipeline import Pipeline\n",
    "from sklearn.model_selection import GridSearchCV\n",
    "from feature_engine.selection import DropCorrelatedFeatures\n",
    "from sklearn.linear_model import LogisticRegression\n",
    "from sklearn.preprocessing import LabelBinarizer\n",
    "\n",
    "\n",
    "import matplotlib.pyplot as plt\n",
    "import seaborn as sns\n",
    "sns.set()\n",
    "\n",
    "# Interactive plotting\n",
    "%matplotlib inline\n",
    "%config InlineBackend.figure_format = 'svg' # ‘png’, ‘retina’, ‘jpeg’, ‘svg’, ‘pdf’"
   ]
  },
  {
   "cell_type": "markdown",
   "metadata": {},
   "source": [
    "#### Exercise 1: Data manipulation and preprocessing\n",
    "\n",
    "1.Encode the quality variable as mentioned in the variable description. \n",
    "- New variable named \"y\"\n",
    "- Drop original variable"
   ]
  },
  {
   "cell_type": "markdown",
   "metadata": {},
   "source": [
    "2. Exploratory analysis of the data exposing what you consider important."
   ]
  },
  {
   "cell_type": "markdown",
   "metadata": {},
   "source": [
    "3. Check for missing values and treat them if necessary"
   ]
  },
  {
   "cell_type": "markdown",
   "metadata": {},
   "source": [
    "4. Perform all the manipulations you consider additional to the data (create new variables, delete constants,...). If you do not consider, skip this section."
   ]
  },
  {
   "cell_type": "markdown",
   "metadata": {},
   "source": [
    "#### Exercise 2:  Training the model with a Logistic regression\n",
    "\n",
    "1. Separate training and test sets\n"
   ]
  },
  {
   "cell_type": "markdown",
   "metadata": {},
   "source": [
    "2. Using the Logistic Regression example practice as a reference:\n",
    "\n",
    "    * 2.1 Creates a list with continuous variables and with categorical variables\n",
    "    * 2.2 Create a numerical transformer with Pipeline object where you apply the transformations you consider. + info https://feature-engine.trainindata.com/en/latest/ or https://scikit-learn.org/stable/data_transforms.html\n",
    "    (In this case, there is no categorical so just create numeric transformer)\n",
    "    * 2.3 Encapsulate your numeric transformer inside the ColumnTransformer object\n",
    "    * 2.4 Create a Pipeline object where you join the preprocessing and your classifier\n",
    "    * 2.5 Create a hyperparameter search dictionary. Idea: you can search inside the C parameter or the penalty parameter.\n",
    "    * 2.6 Instantiate GridSearchCV with cv = 5, return_train_score = True and scoring = \"roc_auc\"\n",
    "    * 2.7 Train the model and interpret the results that come out of the cross validation results"
   ]
  },
  {
   "cell_type": "markdown",
   "metadata": {},
   "source": [
    "3. About our model:\n",
    "\n",
    "* 3.1. What is the best model? What parameters does it have? What is its mean_train_score and its mean_test_score?\n",
    "    \n",
    "* 3.2. Do you think the model is overfitted? Can you show a graph justifying it? (hint: you can get the data from cv_results)"
   ]
  },
  {
   "cell_type": "markdown",
   "metadata": {},
   "source": [
    "4. What are the coefficients of the model? Are they related to the importance of variables?"
   ]
  },
  {
   "cell_type": "markdown",
   "metadata": {},
   "source": [
    "5. Predictions:\n",
    "    * 5.1. Get a variable that is the predictions of the test set in the form of classes and in the form of probability.\n",
    "    * 5.2. Is it a good model? Justify it using the confusion matrix and metrics such as recall or ROC.\n",
    "    * 5.3. Shows a graph of the distributions taking as reference the prediction of class 1.\n",
    "    * 5.4 What do you think of the distribution? Do you think the model could be improved? "
   ]
  },
  {
   "cell_type": "markdown",
   "metadata": {},
   "source": [
    "#### Exercise 3: Training a model with LDA\n",
    "Using LDA practice example as reference: \n",
    "\n",
    "1.Performing the same task as with logistic regression but with the following differences:\n",
    "    \n",
    "* 1.1. Our classifier will now be an LDA with n_components = 1\n",
    "    \n",
    "* 1.2 Create a hyperparameter search where you put different options of the solver that is used in the model.\n",
    "    \n",
    "* 1.3 Scatter plot as follows:\n",
    "     * to_plot_lda = pd.DataFrame(search.transform(X_test), columns =[\"component1\"])\n",
    "     * to_plot_lda[\"y_pred\"] = list(y_pred)\n",
    "     * sns.scatterplot(x = 'component1', y= y_pred,hue=y_pred, data =to_plot_lda).set_title(\"Components\")\n",
    "     \n",
    "     Can you interpret it? Why or why not?\n",
    "    \n",
    "2. Which model is best for you? What have you used to compare them?"
   ]
  },
  {
   "cell_type": "code",
   "execution_count": null,
   "metadata": {},
   "outputs": [],
   "source": []
  }
 ],
 "metadata": {
  "kernelspec": {
   "display_name": "Python 3 (ipykernel)",
   "language": "python",
   "name": "python3"
  },
  "language_info": {
   "codemirror_mode": {
    "name": "ipython",
    "version": 3
   },
   "file_extension": ".py",
   "mimetype": "text/x-python",
   "name": "python",
   "nbconvert_exporter": "python",
   "pygments_lexer": "ipython3",
   "version": "3.9.13"
  },
  "vscode": {
   "interpreter": {
    "hash": "6b1f7724dffa7b768bfb8b45b613882c17d22997f2027b85c628e9490a14a79a"
   }
  }
 },
 "nbformat": 4,
 "nbformat_minor": 2
}
